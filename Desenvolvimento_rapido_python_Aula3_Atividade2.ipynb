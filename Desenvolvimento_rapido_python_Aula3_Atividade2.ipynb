{
 "cells": [
  {
   "cell_type": "code",
   "execution_count": 1,
   "id": "fc7bae4a",
   "metadata": {},
   "outputs": [],
   "source": [
    "import pandas as pd"
   ]
  },
  {
   "cell_type": "code",
   "execution_count": 2,
   "id": "3c7b9cd8",
   "metadata": {},
   "outputs": [],
   "source": [
    "def cadastrar():\n",
    "    with open(r\"C:\\Users\\lucas.nascimento\\Desktop\\Lucas\\Instituicao_de_ensino.txt\",\"a\") as arquivo:\n",
    "        arquivo.write(input(\"Insira o nome do aluno(a):\")+\";\")\n",
    "        arquivo.write(input(\"Insira o email do aluno(a)\")+\";\")\n",
    "        arquivo.write(input(\"Insira o curso do aluno(a):\")+\"\\n\")\n",
    "def listar():\n",
    "    with open(r\"C:\\Users\\lucas.nascimento\\Desktop\\Lucas\\Instituicao_de_ensino.txt\") as arquivo:\n",
    "        return([line.split(\";\")[0] for line in arquivo])\n",
    "def pesquisar():\n",
    "    print(\"Qual o nome deseja pesquisar:\")\n",
    "    nome = (input())\n",
    "    with open(r\"C:\\Users\\lucas.nascimento\\Desktop\\Lucas\\Instituicao_de_ensino.txt\") as arquivo:\n",
    "        print([line.split(\";\")[0] for line in arquivo if nome in line.split(\";\")[0]])\n",
    "def inserir_nota():\n",
    "    try:\n",
    "        lista = listar()\n",
    "        df = pd.DataFrame(columns=[\"aluno\"],data=lista)\n",
    "       \n",
    "        print(df)\n",
    "        print(\"Selecione o número referente ao aluno:\")\n",
    "        selecao = input() \n",
    "        print(\"Insira a nota:\")\n",
    "        nota = input()\n",
    "        df.loc[df.index == int(selecao), 'nota'] = nota\n",
    "        aluno = df[df.index == int(selecao)]\n",
    "        print(aluno)\n",
    "        print(df)\n",
    "        with open(r\"C:\\Users\\lucas.nascimento\\Desktop\\Lucas\\Notas.txt\",\"a\") as arquivo:\n",
    "            arquivo.write(aluno.apply(lambda x: ';'.join(list(x)), axis=1).to_string(index=False)+\"\\n\")\n",
    "    except:\n",
    "        print(\"Valor inexistente.\")\n",
    "    "
   ]
  },
  {
   "cell_type": "code",
   "execution_count": null,
   "id": "247c2d9e",
   "metadata": {
    "scrolled": true
   },
   "outputs": [
    {
     "name": "stdout",
     "output_type": "stream",
     "text": [
      "Qual ação você deseja realizar?\n",
      "1-Cadastrar aluno:\n",
      "2-Listar todos os alunos:\n",
      "3-Pesquisar aluno:\n",
      "4-Inserir nota:\n",
      "4\n",
      "     aluno\n",
      "0        a\n",
      "1        b\n",
      "2    Lucas\n",
      "3        c\n",
      "4  Leticia\n",
      "Selecione o número referente ao aluno:\n",
      "4\n",
      "Insira a nota:\n",
      "4\n",
      "     aluno nota\n",
      "4  Leticia    4\n",
      "     aluno nota\n",
      "0        a  NaN\n",
      "1        b  NaN\n",
      "2    Lucas  NaN\n",
      "3        c  NaN\n",
      "4  Leticia    4\n",
      "None\n",
      "Qual ação você deseja realizar?\n",
      "1-Cadastrar aluno:\n",
      "2-Listar todos os alunos:\n",
      "3-Pesquisar aluno:\n",
      "4-Inserir nota:\n",
      "4\n",
      "     aluno\n",
      "0        a\n",
      "1        b\n",
      "2    Lucas\n",
      "3        c\n",
      "4  Leticia\n",
      "Selecione o número referente ao aluno:\n",
      "4\n",
      "Insira a nota:\n",
      "6\n",
      "     aluno nota\n",
      "4  Leticia    6\n",
      "     aluno nota\n",
      "0        a  NaN\n",
      "1        b  NaN\n",
      "2    Lucas  NaN\n",
      "3        c  NaN\n",
      "4  Leticia    6\n",
      "None\n",
      "Qual ação você deseja realizar?\n",
      "1-Cadastrar aluno:\n",
      "2-Listar todos os alunos:\n",
      "3-Pesquisar aluno:\n",
      "4-Inserir nota:\n"
     ]
    }
   ],
   "source": [
    "while True:\n",
    "    try:\n",
    "        opcoes = {1:cadastrar,2:listar,3:pesquisar,4:inserir_nota}\n",
    "        print(\"Qual ação você deseja realizar?\\n1-Cadastrar aluno:\\n2-Listar todos os alunos:\\n3-Pesquisar aluno:\\n4-Inserir nota:\")\n",
    "        escolha = (input())\n",
    "        print(opcoes[int(escolha)]())\n",
    "    except:\n",
    "        print(\"Opção inválida.\")\n",
    "\n"
   ]
  },
  {
   "cell_type": "code",
   "execution_count": null,
   "id": "90456502",
   "metadata": {},
   "outputs": [],
   "source": []
  }
 ],
 "metadata": {
  "kernelspec": {
   "display_name": "Python 3 (ipykernel)",
   "language": "python",
   "name": "python3"
  },
  "language_info": {
   "codemirror_mode": {
    "name": "ipython",
    "version": 3
   },
   "file_extension": ".py",
   "mimetype": "text/x-python",
   "name": "python",
   "nbconvert_exporter": "python",
   "pygments_lexer": "ipython3",
   "version": "3.9.13"
  }
 },
 "nbformat": 4,
 "nbformat_minor": 5
}
